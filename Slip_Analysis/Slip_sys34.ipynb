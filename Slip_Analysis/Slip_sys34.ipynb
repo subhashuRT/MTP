{
 "cells": [
  {
   "cell_type": "code",
   "execution_count": 2,
   "metadata": {},
   "outputs": [],
   "source": [
    "import numpy as np\n",
    "import pandas as pd\n",
    "import matplotlib.pyplot as plt\n",
    "from scipy.spatial import distance\n",
    "%matplotlib inline\n",
    "from IPython.display import Math\n",
    "from IPython.display import display, Math, Latex\n",
    "from decimal import Decimal"
   ]
  },
  {
   "cell_type": "code",
   "execution_count": 1,
   "metadata": {},
   "outputs": [],
   "source": [
    "import os"
   ]
  },
  {
   "cell_type": "code",
   "execution_count": 3,
   "metadata": {},
   "outputs": [
    {
     "data": {
      "text/plain": [
       "'/Users/srt'"
      ]
     },
     "execution_count": 3,
     "metadata": {},
     "output_type": "execute_result"
    }
   ],
   "source": [
    "os.getcwd()"
   ]
  },
  {
   "cell_type": "code",
   "execution_count": null,
   "metadata": {},
   "outputs": [],
   "source": [
    "os.chdir(\"Desktop/\")"
   ]
  },
  {
   "cell_type": "code",
   "execution_count": 10,
   "metadata": {},
   "outputs": [
    {
     "ename": "FileNotFoundError",
     "evalue": "[Errno 2] File b'par0286.csv' does not exist: b'par0286.csv'",
     "output_type": "error",
     "traceback": [
      "\u001b[0;31m---------------------------------------------------------------------------\u001b[0m",
      "\u001b[0;31mFileNotFoundError\u001b[0m                         Traceback (most recent call last)",
      "\u001b[0;32m<ipython-input-10-9a49948725c3>\u001b[0m in \u001b[0;36m<module>\u001b[0;34m\u001b[0m\n\u001b[1;32m      1\u001b[0m \u001b[0;31m#Reading the data\u001b[0m\u001b[0;34m\u001b[0m\u001b[0;34m\u001b[0m\u001b[0;34m\u001b[0m\u001b[0m\n\u001b[0;32m----> 2\u001b[0;31m \u001b[0mdata\u001b[0m \u001b[0;34m=\u001b[0m \u001b[0mpd\u001b[0m\u001b[0;34m.\u001b[0m\u001b[0mread_csv\u001b[0m\u001b[0;34m(\u001b[0m\u001b[0;34m\"par0286.csv\"\u001b[0m\u001b[0;34m)\u001b[0m\u001b[0;34m\u001b[0m\u001b[0;34m\u001b[0m\u001b[0m\n\u001b[0m\u001b[1;32m      3\u001b[0m \u001b[0mb\u001b[0m \u001b[0;34m=\u001b[0m \u001b[0mdata\u001b[0m\u001b[0;34m.\u001b[0m\u001b[0miloc\u001b[0m\u001b[0;34m[\u001b[0m\u001b[0;34m:\u001b[0m\u001b[0;34m,\u001b[0m\u001b[0;36m3\u001b[0m\u001b[0;34m]\u001b[0m\u001b[0;34m.\u001b[0m\u001b[0mvalues\u001b[0m  \u001b[0;31m#b_type\u001b[0m\u001b[0;34m\u001b[0m\u001b[0;34m\u001b[0m\u001b[0m\n\u001b[1;32m      4\u001b[0m \u001b[0mx\u001b[0m \u001b[0;34m=\u001b[0m \u001b[0mdata\u001b[0m\u001b[0;34m.\u001b[0m\u001b[0miloc\u001b[0m\u001b[0;34m[\u001b[0m\u001b[0;34m:\u001b[0m\u001b[0;34m,\u001b[0m\u001b[0;36m0\u001b[0m\u001b[0;34m]\u001b[0m\u001b[0;34m.\u001b[0m\u001b[0mvalues\u001b[0m  \u001b[0;31m#X coordinate\u001b[0m\u001b[0;34m\u001b[0m\u001b[0;34m\u001b[0m\u001b[0m\n\u001b[1;32m      5\u001b[0m \u001b[0my\u001b[0m \u001b[0;34m=\u001b[0m \u001b[0mdata\u001b[0m\u001b[0;34m.\u001b[0m\u001b[0miloc\u001b[0m\u001b[0;34m[\u001b[0m\u001b[0;34m:\u001b[0m\u001b[0;34m,\u001b[0m\u001b[0;36m1\u001b[0m\u001b[0;34m]\u001b[0m\u001b[0;34m.\u001b[0m\u001b[0mvalues\u001b[0m  \u001b[0;31m#Y coordinate\u001b[0m\u001b[0;34m\u001b[0m\u001b[0;34m\u001b[0m\u001b[0m\n",
      "\u001b[0;32m~/Public/anaconda3/lib/python3.7/site-packages/pandas/io/parsers.py\u001b[0m in \u001b[0;36mparser_f\u001b[0;34m(filepath_or_buffer, sep, delimiter, header, names, index_col, usecols, squeeze, prefix, mangle_dupe_cols, dtype, engine, converters, true_values, false_values, skipinitialspace, skiprows, skipfooter, nrows, na_values, keep_default_na, na_filter, verbose, skip_blank_lines, parse_dates, infer_datetime_format, keep_date_col, date_parser, dayfirst, iterator, chunksize, compression, thousands, decimal, lineterminator, quotechar, quoting, doublequote, escapechar, comment, encoding, dialect, tupleize_cols, error_bad_lines, warn_bad_lines, delim_whitespace, low_memory, memory_map, float_precision)\u001b[0m\n\u001b[1;32m    700\u001b[0m                     skip_blank_lines=skip_blank_lines)\n\u001b[1;32m    701\u001b[0m \u001b[0;34m\u001b[0m\u001b[0m\n\u001b[0;32m--> 702\u001b[0;31m         \u001b[0;32mreturn\u001b[0m \u001b[0m_read\u001b[0m\u001b[0;34m(\u001b[0m\u001b[0mfilepath_or_buffer\u001b[0m\u001b[0;34m,\u001b[0m \u001b[0mkwds\u001b[0m\u001b[0;34m)\u001b[0m\u001b[0;34m\u001b[0m\u001b[0;34m\u001b[0m\u001b[0m\n\u001b[0m\u001b[1;32m    703\u001b[0m \u001b[0;34m\u001b[0m\u001b[0m\n\u001b[1;32m    704\u001b[0m     \u001b[0mparser_f\u001b[0m\u001b[0;34m.\u001b[0m\u001b[0m__name__\u001b[0m \u001b[0;34m=\u001b[0m \u001b[0mname\u001b[0m\u001b[0;34m\u001b[0m\u001b[0;34m\u001b[0m\u001b[0m\n",
      "\u001b[0;32m~/Public/anaconda3/lib/python3.7/site-packages/pandas/io/parsers.py\u001b[0m in \u001b[0;36m_read\u001b[0;34m(filepath_or_buffer, kwds)\u001b[0m\n\u001b[1;32m    427\u001b[0m \u001b[0;34m\u001b[0m\u001b[0m\n\u001b[1;32m    428\u001b[0m     \u001b[0;31m# Create the parser.\u001b[0m\u001b[0;34m\u001b[0m\u001b[0;34m\u001b[0m\u001b[0;34m\u001b[0m\u001b[0m\n\u001b[0;32m--> 429\u001b[0;31m     \u001b[0mparser\u001b[0m \u001b[0;34m=\u001b[0m \u001b[0mTextFileReader\u001b[0m\u001b[0;34m(\u001b[0m\u001b[0mfilepath_or_buffer\u001b[0m\u001b[0;34m,\u001b[0m \u001b[0;34m**\u001b[0m\u001b[0mkwds\u001b[0m\u001b[0;34m)\u001b[0m\u001b[0;34m\u001b[0m\u001b[0;34m\u001b[0m\u001b[0m\n\u001b[0m\u001b[1;32m    430\u001b[0m \u001b[0;34m\u001b[0m\u001b[0m\n\u001b[1;32m    431\u001b[0m     \u001b[0;32mif\u001b[0m \u001b[0mchunksize\u001b[0m \u001b[0;32mor\u001b[0m \u001b[0miterator\u001b[0m\u001b[0;34m:\u001b[0m\u001b[0;34m\u001b[0m\u001b[0;34m\u001b[0m\u001b[0m\n",
      "\u001b[0;32m~/Public/anaconda3/lib/python3.7/site-packages/pandas/io/parsers.py\u001b[0m in \u001b[0;36m__init__\u001b[0;34m(self, f, engine, **kwds)\u001b[0m\n\u001b[1;32m    893\u001b[0m             \u001b[0mself\u001b[0m\u001b[0;34m.\u001b[0m\u001b[0moptions\u001b[0m\u001b[0;34m[\u001b[0m\u001b[0;34m'has_index_names'\u001b[0m\u001b[0;34m]\u001b[0m \u001b[0;34m=\u001b[0m \u001b[0mkwds\u001b[0m\u001b[0;34m[\u001b[0m\u001b[0;34m'has_index_names'\u001b[0m\u001b[0;34m]\u001b[0m\u001b[0;34m\u001b[0m\u001b[0;34m\u001b[0m\u001b[0m\n\u001b[1;32m    894\u001b[0m \u001b[0;34m\u001b[0m\u001b[0m\n\u001b[0;32m--> 895\u001b[0;31m         \u001b[0mself\u001b[0m\u001b[0;34m.\u001b[0m\u001b[0m_make_engine\u001b[0m\u001b[0;34m(\u001b[0m\u001b[0mself\u001b[0m\u001b[0;34m.\u001b[0m\u001b[0mengine\u001b[0m\u001b[0;34m)\u001b[0m\u001b[0;34m\u001b[0m\u001b[0;34m\u001b[0m\u001b[0m\n\u001b[0m\u001b[1;32m    896\u001b[0m \u001b[0;34m\u001b[0m\u001b[0m\n\u001b[1;32m    897\u001b[0m     \u001b[0;32mdef\u001b[0m \u001b[0mclose\u001b[0m\u001b[0;34m(\u001b[0m\u001b[0mself\u001b[0m\u001b[0;34m)\u001b[0m\u001b[0;34m:\u001b[0m\u001b[0;34m\u001b[0m\u001b[0;34m\u001b[0m\u001b[0m\n",
      "\u001b[0;32m~/Public/anaconda3/lib/python3.7/site-packages/pandas/io/parsers.py\u001b[0m in \u001b[0;36m_make_engine\u001b[0;34m(self, engine)\u001b[0m\n\u001b[1;32m   1120\u001b[0m     \u001b[0;32mdef\u001b[0m \u001b[0m_make_engine\u001b[0m\u001b[0;34m(\u001b[0m\u001b[0mself\u001b[0m\u001b[0;34m,\u001b[0m \u001b[0mengine\u001b[0m\u001b[0;34m=\u001b[0m\u001b[0;34m'c'\u001b[0m\u001b[0;34m)\u001b[0m\u001b[0;34m:\u001b[0m\u001b[0;34m\u001b[0m\u001b[0;34m\u001b[0m\u001b[0m\n\u001b[1;32m   1121\u001b[0m         \u001b[0;32mif\u001b[0m \u001b[0mengine\u001b[0m \u001b[0;34m==\u001b[0m \u001b[0;34m'c'\u001b[0m\u001b[0;34m:\u001b[0m\u001b[0;34m\u001b[0m\u001b[0;34m\u001b[0m\u001b[0m\n\u001b[0;32m-> 1122\u001b[0;31m             \u001b[0mself\u001b[0m\u001b[0;34m.\u001b[0m\u001b[0m_engine\u001b[0m \u001b[0;34m=\u001b[0m \u001b[0mCParserWrapper\u001b[0m\u001b[0;34m(\u001b[0m\u001b[0mself\u001b[0m\u001b[0;34m.\u001b[0m\u001b[0mf\u001b[0m\u001b[0;34m,\u001b[0m \u001b[0;34m**\u001b[0m\u001b[0mself\u001b[0m\u001b[0;34m.\u001b[0m\u001b[0moptions\u001b[0m\u001b[0;34m)\u001b[0m\u001b[0;34m\u001b[0m\u001b[0;34m\u001b[0m\u001b[0m\n\u001b[0m\u001b[1;32m   1123\u001b[0m         \u001b[0;32melse\u001b[0m\u001b[0;34m:\u001b[0m\u001b[0;34m\u001b[0m\u001b[0;34m\u001b[0m\u001b[0m\n\u001b[1;32m   1124\u001b[0m             \u001b[0;32mif\u001b[0m \u001b[0mengine\u001b[0m \u001b[0;34m==\u001b[0m \u001b[0;34m'python'\u001b[0m\u001b[0;34m:\u001b[0m\u001b[0;34m\u001b[0m\u001b[0;34m\u001b[0m\u001b[0m\n",
      "\u001b[0;32m~/Public/anaconda3/lib/python3.7/site-packages/pandas/io/parsers.py\u001b[0m in \u001b[0;36m__init__\u001b[0;34m(self, src, **kwds)\u001b[0m\n\u001b[1;32m   1851\u001b[0m         \u001b[0mkwds\u001b[0m\u001b[0;34m[\u001b[0m\u001b[0;34m'usecols'\u001b[0m\u001b[0;34m]\u001b[0m \u001b[0;34m=\u001b[0m \u001b[0mself\u001b[0m\u001b[0;34m.\u001b[0m\u001b[0musecols\u001b[0m\u001b[0;34m\u001b[0m\u001b[0;34m\u001b[0m\u001b[0m\n\u001b[1;32m   1852\u001b[0m \u001b[0;34m\u001b[0m\u001b[0m\n\u001b[0;32m-> 1853\u001b[0;31m         \u001b[0mself\u001b[0m\u001b[0;34m.\u001b[0m\u001b[0m_reader\u001b[0m \u001b[0;34m=\u001b[0m \u001b[0mparsers\u001b[0m\u001b[0;34m.\u001b[0m\u001b[0mTextReader\u001b[0m\u001b[0;34m(\u001b[0m\u001b[0msrc\u001b[0m\u001b[0;34m,\u001b[0m \u001b[0;34m**\u001b[0m\u001b[0mkwds\u001b[0m\u001b[0;34m)\u001b[0m\u001b[0;34m\u001b[0m\u001b[0;34m\u001b[0m\u001b[0m\n\u001b[0m\u001b[1;32m   1854\u001b[0m         \u001b[0mself\u001b[0m\u001b[0;34m.\u001b[0m\u001b[0munnamed_cols\u001b[0m \u001b[0;34m=\u001b[0m \u001b[0mself\u001b[0m\u001b[0;34m.\u001b[0m\u001b[0m_reader\u001b[0m\u001b[0;34m.\u001b[0m\u001b[0munnamed_cols\u001b[0m\u001b[0;34m\u001b[0m\u001b[0;34m\u001b[0m\u001b[0m\n\u001b[1;32m   1855\u001b[0m \u001b[0;34m\u001b[0m\u001b[0m\n",
      "\u001b[0;32mpandas/_libs/parsers.pyx\u001b[0m in \u001b[0;36mpandas._libs.parsers.TextReader.__cinit__\u001b[0;34m()\u001b[0m\n",
      "\u001b[0;32mpandas/_libs/parsers.pyx\u001b[0m in \u001b[0;36mpandas._libs.parsers.TextReader._setup_parser_source\u001b[0;34m()\u001b[0m\n",
      "\u001b[0;31mFileNotFoundError\u001b[0m: [Errno 2] File b'par0286.csv' does not exist: b'par0286.csv'"
     ]
    }
   ],
   "source": [
    "#Reading the data\n",
    "data = pd.read_csv(\"par0286.csv\")\n",
    "b = data.iloc[:,3].values  #b_type\n",
    "x = data.iloc[:,0].values  #X coordinate\n",
    "y = data.iloc[:,1].values  #Y coordinate\n",
    "z = data.iloc[:,2].values  #Z coordinate\n",
    "theta = data.iloc[:,6].values #Theta values\n",
    "s = data.iloc[:,7].values   #Slip system\n",
    "p_type = data.iloc[:,4].values  #plane_type\n",
    "\n",
    "coord = np.array([x , y, z])  #corrdinates in an array\n",
    "D = coord.T     #proper cordinates\n",
    "print (\"number of nodes =\",len(x))"
   ]
  },
  {
   "cell_type": "code",
   "execution_count": null,
   "metadata": {},
   "outputs": [],
   "source": []
  },
  {
   "cell_type": "code",
   "execution_count": 3,
   "metadata": {},
   "outputs": [],
   "source": [
    "a = np.array([0,0,0])\n",
    "b = np.array([0, 0, 0])\n",
    "c = np.array([0, 0, 0])\n",
    "d = np.array([0, 0, 0])\n",
    "\n",
    "e = np.array([0, 0, 0])\n",
    "\n",
    "f = np.array([0, 0, 0])\n",
    "\n",
    "g = np.array([0, 0, 0])\n",
    "\n",
    "h = np.array([0, 0, 0])\n",
    "\n",
    "l = np.array([0, 0, 0])\n",
    "\n",
    "m = np.array([0, 0, 0])\n",
    "n = np.array([0, 0, 0])\n",
    "o = np.array([0, 0, 0])\n",
    "\n",
    "p = np.array([0, 0, 0])\n",
    "\n",
    "for i in range(0,len(s),2):\n",
    "    if s[i] == 1:\n",
    "        a = np.vstack([a,D[i]])\n",
    "        a = np.vstack([a,D[i+1]])\n",
    "    if s[i] == 2:\n",
    "        b = np.vstack([b, D[i]])\n",
    "        b = np.vstack([b,D[i+1]])\n",
    "    if s[i] ==3:\n",
    "        c = np.vstack([c,D[i]])\n",
    "        c = np.vstack([c,D[i+1]])\n",
    "    if s[i] == 4:\n",
    "        e = np.vstack([e,D[i]])\n",
    "        e = np.vstack([e,D[i+1]])\n",
    "    if s[i] ==5:\n",
    "        f = np.vstack([f,D[i]])\n",
    "        f = np.vstack([f,D[i+1]])\n",
    "    if s[i] == 6:\n",
    "        g = np.vstack([g,D[i]])\n",
    "        g = np.vstack([g,D[i+1]])\n",
    "    if s[i] == 7:\n",
    "        h = np.vstack([h,D[i]])\n",
    "        h = np.vstack([h,D[i+1]])\n",
    "    if s[i] == 8:\n",
    "        l = np.vstack([l,D[i]])  \n",
    "        l = np.vstack([l,D[i+1]])  \n",
    "    if s[i] ==9:\n",
    "        m = np.vstack([m,D[i]])\n",
    "        m = np.vstack([m,D[i+1]])\n",
    "    if s[i] == 10:\n",
    "        n = np.vstack([n,D[i]])\n",
    "        n = np.vstack([n,D[i+1]])\n",
    "    if s[i] ==11:\n",
    "        o = np.vstack([o,D[i]])\n",
    "        o = np.vstack([o,D[i+1]])\n",
    "    if s[i] == 12:\n",
    "        p = np.vstack([p,D[i]])\n",
    "        p = np.vstack([p,D[i+1]])"
   ]
  },
  {
   "cell_type": "code",
   "execution_count": 4,
   "metadata": {},
   "outputs": [],
   "source": [
    "a = np.delete(a,0,0)\n",
    "b = np.delete(b,0,0)\n",
    "c = np.delete(c,0,0)\n",
    "g = np.delete(g,0,0)\n",
    "e = np.delete(e,0,0)\n",
    "\n",
    "f = np.delete(f,0,0)\n",
    "\n",
    "h = np.delete(h,0,0)\n",
    "\n",
    "l = np.delete(l,0,0)\n",
    "\n",
    "m = np.delete(m,0,0)\n",
    "\n",
    "n = np.delete(n,0,0)\n",
    "\n",
    "o = np.delete(o,0,0)\n",
    "\n",
    "p = np.delete(p,0,0)"
   ]
  },
  {
   "cell_type": "code",
   "execution_count": 5,
   "metadata": {},
   "outputs": [
    {
     "name": "stdout",
     "output_type": "stream",
     "text": [
      "length = 2\n"
     ]
    }
   ],
   "source": [
    "#Calculating Distance of different slip system\n",
    "s1 = 0\n",
    "for i in range(0,len(a),2):\n",
    "    s1 = s1 + distance.euclidean(a[i],a[i+1])\n",
    "s2 = 0\n",
    "if len(b)<3:\n",
    "    s2 = 0\n",
    "else:\n",
    "    for i in range(0,len(b),2):\n",
    "        s2 = s2 + distance.euclidean(b[i],b[i+1])\n",
    "#print(s2)\n",
    "s3 = 0\n",
    "if len(c)<3:\n",
    "    s3 = 0\n",
    "else:\n",
    "    for i in range(0,len(c),2):\n",
    "        s3 = s3 + distance.euclidean(c[i],c[i+1])\n",
    "#print(s3)\n",
    "s4 = 0\n",
    "if len(e)<3:\n",
    "    print(\"length =\",len(e))\n",
    "    s4 = 0\n",
    "else:\n",
    "    for i in range(0,len(e),2):\n",
    "        s4 = s4 + distance.euclidean(e[i],e[i+1])\n",
    "\n",
    "s5 = 0\n",
    "if len(f)<3:\n",
    "    print(\"length =\",len(f))\n",
    "    s5 = 0\n",
    "else:\n",
    "    for i in range(0,len(f),2):\n",
    "        s5 = s5 + distance.euclidean(f[i],f[i+1])\n",
    "\n",
    "s6 = 0\n",
    "if len(g)<3:\n",
    "    print(\"length =\",len(g))\n",
    "    s6 = 0\n",
    "else:\n",
    "    for i in range(0,len(g),2):\n",
    "        s6 = s6 + distance.euclidean(g[i],g[i+1])\n",
    "s7 = 0\n",
    "if len(h)<3:\n",
    "    print(\"length =\",len(h))\n",
    "    s7 = 0\n",
    "else:\n",
    "    for i in range (0,len(h),2):\n",
    "        s7 = s7 + distance.euclidean(h[i],h[i+1])\n",
    "\n",
    "s8 = 0\n",
    "if len(l)<3:\n",
    "    print(\"length =\",len(l))\n",
    "    s8 = 0\n",
    "else:\n",
    "    for i in range(0,len(l),2):\n",
    "        s8 = s8 +distance.euclidean(l[i],l[i+1])\n",
    "\n",
    "s9 = 0\n",
    "if len(m)<3:\n",
    "    print(\"length =\",len(m))\n",
    "    s9 = 0\n",
    "else:\n",
    "    for i in range(0,len(m),2):\n",
    "        s9 = s9 +distance.euclidean(m[i],m[i+1])\n",
    "\n",
    "s10 = 0\n",
    "if len(n)<3:\n",
    "    print(\"length =\",len(n))\n",
    "    s10 = 0\n",
    "else:\n",
    "    for i in range(0,len(n),2):\n",
    "        s10 = s10 +distance.euclidean(n[i],n[i+1])\n",
    "\n",
    "s11 = 0\n",
    "if len(o)<3:\n",
    "    print(\"length =\",len(o))\n",
    "    s11 = 0\n",
    "else:\n",
    "    for i in range(0,len(o),2):\n",
    "        s11 = s11 +distance.euclidean(o[i],o[i+1])\n",
    "\n",
    "s12 = 0\n",
    "if len(p)<3:\n",
    "    print(\"length =\",len(p))\n",
    "    s12 = 0\n",
    "else:\n",
    "    for i in range(0,len(p),2):\n",
    "        s12 = s12 +distance.euclidean(p[i],p[i+1])"
   ]
  },
  {
   "cell_type": "code",
   "execution_count": 6,
   "metadata": {},
   "outputs": [],
   "source": [
    "slip_len = [s1,s2,s3,s4,s5,s6,s7,s8,s9,s10,s11,s12]\n",
    "l1 = len(a)\n",
    "l2 = len(b)\n",
    "\n",
    "l3 = len(c)\n",
    "\n",
    "l4 = len(e)\n",
    "\n",
    "l5 = len(f)\n",
    "\n",
    "l6 = len(g)\n",
    "\n",
    "l7 = len(h)\n",
    "\n",
    "l8 = len(l)\n",
    "\n",
    "l9 = len(m)\n",
    "\n",
    "l10 = len(n)\n",
    "l11 = len(o)\n",
    "l12 = len(p)\n",
    "\n",
    "\n",
    "\n",
    "\n",
    "Slip_len_av = [s1/l1,s2/l2,s3/l3,s4/l4,s5/l5,s6/l6,s7/l7,s8/l8,s9/l9,s10/l10,s11/l11,s12/l12]\n",
    "slip_syst = np.asarray(Slip_len_av)"
   ]
  },
  {
   "cell_type": "code",
   "execution_count": 7,
   "metadata": {},
   "outputs": [
    {
     "name": "stdout",
     "output_type": "stream",
     "text": [
      "[ 1  2  3  4  5  6  7  8  9 10 11 12]\n",
      "Mean of slip system = 49.94256512604466\n",
      "Std of slip system = 23.388169031050104\n"
     ]
    }
   ],
   "source": [
    "#Plotting Slip System\n",
    "Nu_slip = np.arange(1,13)\n",
    "print(Nu_slip)\n",
    "mean_slip = [np.mean(slip_syst)]*len(Nu_slip)\n",
    "std_slip = [np.std(slip_syst)]*len(Nu_slip)\n",
    "print(\"Mean of slip system =\",mean_slip[0])\n",
    "print(\"Std of slip system =\",std_slip[0])"
   ]
  },
  {
   "cell_type": "code",
   "execution_count": 8,
   "metadata": {},
   "outputs": [],
   "source": [
    "#creating data for box plot\n",
    "list_dis1 = []\n",
    "list_dis2 = []\n",
    "list_dis3 = []\n",
    "list_dis4 = []\n",
    "list_dis5 = []\n",
    "list_dis6 = []\n",
    "list_dis7 = []\n",
    "list_dis8 = []\n",
    "list_dis9 = []\n",
    "list_dis10 = []\n",
    "list_dis11 = []\n",
    "list_dis12 = []\n",
    "for i in range(0,len(a),2):\n",
    "    list_dis1.append(distance.euclidean(a[i],a[i+1]))\n",
    "for i in range(0,len(b),2):\n",
    "    list_dis2.append(distance.euclidean(b[i],b[i+1]))\n",
    "for i in range(0,len(c),2):\n",
    "    list_dis3.append(distance.euclidean(c[i],c[i+1]))\n",
    "for i in range(0,len(e),2):\n",
    "    list_dis4.append(distance.euclidean(e[i],e[i+1]))\n",
    "for i in range(0,len(f),2):\n",
    "    list_dis5.append(distance.euclidean(f[i],f[i+1]))\n",
    "for i in range(0,len(g),2):\n",
    "    list_dis6.append(distance.euclidean(g[i],g[i+1]))\n",
    "for i in range(0,len(h),2):\n",
    "    list_dis7.append(distance.euclidean(h[i],h[i+1]))\n",
    "for i in range(0,len(l),2):\n",
    "    list_dis8.append(distance.euclidean(l[i],l[i+1]))\n",
    "for i in range(0,len(m),2):\n",
    "    list_dis9.append(distance.euclidean(m[i],m[i+1]))\n",
    "for i in range(0,len(n),2):\n",
    "    list_dis10.append(distance.euclidean(n[i],n[i+1]))\n",
    "for i in range(0,len(o),2):\n",
    "    list_dis11.append(distance.euclidean(o[i],o[i+1]))\n",
    "for i in range(0,len(p),2):\n",
    "    list_dis12.append(distance.euclidean(p[i],p[i+1]))\n",
    "    \n",
    "#collecting all data to list to plot\n",
    "data_to_plot = [list_dis1, list_dis2, list_dis3, list_dis4, list_dis5, list_dis6, list_dis7, list_dis8, list_dis9, list_dis10, list_dis11, list_dis12]"
   ]
  },
  {
   "cell_type": "code",
   "execution_count": 9,
   "metadata": {},
   "outputs": [
    {
     "data": {
      "image/png": "[encoded data removed]",
      "text/plain": [
       "<Figure size 1296x1080 with 1 Axes>"
      ]
     },
     "metadata": {
      "needs_background": "light"
     },
     "output_type": "display_data"
    }
   ],
   "source": [
    "fig = plt.figure(figsize = (18,15))\n",
    "ax = plt.axes()\n",
    "ax.bar(Nu_slip, slip_syst, label= \"Slip system length\");\n",
    "\n",
    "mean_line = ax.plot(Nu_slip,mean_slip, label='Mean={}'.format(mean_slip[0]), linestyle='--')\n",
    "std_dev = ax.plot(Nu_slip,std_slip, label = \"Standard Deviation ={}\".format(std_slip[0]), linestyle=\"-.\")\n",
    "\n",
    "#plt.axis([0, 12, 0, 220])\n",
    "legend = ax.legend(loc='upper right')\n",
    "# Create the boxplot\n",
    "bp = ax.boxplot(data_to_plot)\n",
    "## add patch_artist=True option to ax.boxplot() \n",
    "## to get fill color\n",
    "bp = ax.boxplot(data_to_plot, patch_artist=True)\n",
    "\n",
    "## change outline color, fill color and linewidth of the boxes\n",
    "for box in bp['boxes']:\n",
    "    # change outline color\n",
    "    box.set( color='#7570b3', linewidth=2)\n",
    "    # change fill color\n",
    "    box.set( facecolor = '#1b9e77' )\n",
    "\n",
    "## change color and linewidth of the whiskers\n",
    "for whisker in bp['whiskers']:\n",
    "    whisker.set(color='#7570b3', linewidth=2)\n",
    "\n",
    "## change color and linewidth of the caps\n",
    "for cap in bp['caps']:\n",
    "    cap.set(color='#7570b3', linewidth=2)\n",
    "\n",
    "## change color and linewidth of the medians\n",
    "for median in bp['medians']:\n",
    "    median.set(color='#b2df8a', linewidth=2)\n",
    "\n",
    "## change the style of fliers and their fill\n",
    "for flier in bp['fliers']:\n",
    "    flier.set(marker='o', color='#e7298a', alpha=0.5)\n",
    "plt.xticks(fontsize=20)\n",
    "plt.yticks(fontsize = 20)\n",
    "plt.xlabel(\"Type of Slip system\",fontsize = 40)\n",
    "plt.ylabel(\"Length of segment(*b)\", fontsize =40)\n",
    "plt.title(\"Segment length distribution for a 0.5% 36Disl\",fontsize = 40)\n",
    "plt.savefig(\"0.5%36D.png\")\n",
    "plt.show()"
   ]
  },
  {
   "cell_type": "code",
   "execution_count": null,
   "metadata": {},
   "outputs": [],
   "source": []
  }
 ],
 "metadata": {
  "kernelspec": {
   "display_name": "Python 3",
   "language": "python",
   "name": "python3"
  },
  "language_info": {
   "codemirror_mode": {
    "name": "ipython",
    "version": 3
   },
   "file_extension": ".py",
   "mimetype": "text/x-python",
   "name": "python",
   "nbconvert_exporter": "python",
   "pygments_lexer": "ipython3",
   "version": "3.7.4"
  }
 },
 "nbformat": 4,
 "nbformat_minor": 2
}
