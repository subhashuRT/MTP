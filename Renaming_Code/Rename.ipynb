{
 "cells": [
  {
   "cell_type": "code",
   "execution_count": 2,
   "metadata": {},
   "outputs": [
    {
     "data": {
      "text/plain": [
       "'/Users/srt'"
      ]
     },
     "execution_count": 2,
     "metadata": {},
     "output_type": "execute_result"
    }
   ],
   "source": [
    "import os\n",
    "os.getcwd()"
   ]
  },
  {
   "cell_type": "code",
   "execution_count": 3,
   "metadata": {},
   "outputs": [],
   "source": [
    "os.chdir(\"Desktop/MTP_2/Data_Colection/28D/28D/1\")\n"
   ]
  },
  {
   "cell_type": "code",
   "execution_count": 67,
   "metadata": {},
   "outputs": [],
   "source": [
    "os.chdir(\"../../7\")"
   ]
  },
  {
   "cell_type": "code",
   "execution_count": 68,
   "metadata": {},
   "outputs": [],
   "source": [
    "entries = os.listdir('paraview')"
   ]
  },
  {
   "cell_type": "code",
   "execution_count": 69,
   "metadata": {
    "scrolled": true
   },
   "outputs": [
    {
     "data": {
      "text/plain": [
       "['par0166.csv',\n",
       " 'par0012.csv',\n",
       " 'par0006.csv',\n",
       " 'par0038.csv',\n",
       " 'par0010.csv',\n",
       " 'par0004.csv',\n",
       " 'par0158.csv',\n",
       " 'par0164.csv',\n",
       " 'par0148.csv',\n",
       " 'par0160.csv',\n",
       " 'par0028.csv',\n",
       " 'par0014.csv',\n",
       " 'par0002.csv',\n",
       " 'par0016.csv',\n",
       " 'par0162.csv',\n",
       " 'par0058.csv',\n",
       " 'par0064.csv',\n",
       " 'par0070.csv',\n",
       " 'par0138.csv',\n",
       " 'par0110.csv',\n",
       " 'par0104.csv',\n",
       " 'par0098.csv',\n",
       " 'par0112.csv',\n",
       " 'par0106.csv',\n",
       " 'par0066.csv',\n",
       " 'par0072.csv',\n",
       " 'par0076.csv',\n",
       " 'par0062.csv',\n",
       " 'par0102.csv',\n",
       " 'par0116.csv',\n",
       " 'par0088.csv',\n",
       " 'par0128.csv',\n",
       " 'par0100.csv',\n",
       " 'par0114.csv',\n",
       " 'par0048.csv',\n",
       " 'par0074.csv',\n",
       " 'par0060.csv',\n",
       " 'par0086.csv',\n",
       " 'par0092.csv',\n",
       " 'par0124.csv',\n",
       " 'par0130.csv',\n",
       " 'par0118.csv',\n",
       " 'par0050.csv',\n",
       " 'par0044.csv',\n",
       " 'par0078.csv',\n",
       " 'par0052.csv',\n",
       " 'par0046.csv',\n",
       " 'par0126.csv',\n",
       " 'par0132.csv',\n",
       " 'par0084.csv',\n",
       " 'par0090.csv',\n",
       " 'par0094.csv',\n",
       " 'par0080.csv',\n",
       " 'par0136.csv',\n",
       " 'par0122.csv',\n",
       " 'par0042.csv',\n",
       " 'par0056.csv',\n",
       " 'par0040.csv',\n",
       " 'par0054.csv',\n",
       " 'par0068.csv',\n",
       " 'par0134.csv',\n",
       " 'par0120.csv',\n",
       " 'par0108.csv',\n",
       " 'par0096.csv',\n",
       " 'par0082.csv',\n",
       " 'par0026.csv',\n",
       " 'par0032.csv',\n",
       " 'par0152.csv',\n",
       " 'par0146.csv',\n",
       " 'par0150.csv',\n",
       " 'par0144.csv',\n",
       " 'par0024.csv',\n",
       " 'par0030.csv',\n",
       " 'par0018.csv',\n",
       " 'par0034.csv',\n",
       " 'par0020.csv',\n",
       " 'par0008.csv',\n",
       " 'par0140.csv',\n",
       " 'par0154.csv',\n",
       " 'par0142.csv',\n",
       " 'par0156.csv',\n",
       " 'par0036.csv',\n",
       " 'par0022.csv']"
      ]
     },
     "execution_count": 69,
     "metadata": {},
     "output_type": "execute_result"
    }
   ],
   "source": [
    "entries"
   ]
  },
  {
   "cell_type": "code",
   "execution_count": 62,
   "metadata": {},
   "outputs": [],
   "source": [
    "l= []\n",
    "for f_name in entries:\n",
    "    if f_name.endswith('.csv'):\n",
    "        l.append(f_name)"
   ]
  },
  {
   "cell_type": "code",
   "execution_count": 63,
   "metadata": {},
   "outputs": [],
   "source": [
    "l.sort()"
   ]
  },
  {
   "cell_type": "code",
   "execution_count": 64,
   "metadata": {},
   "outputs": [
    {
     "name": "stdout",
     "output_type": "stream",
     "text": [
      "['par0002.csv', 'par0004.csv', 'par0006.csv', 'par0008.csv', 'par0010.csv', 'par0012.csv', 'par0014.csv', 'par0016.csv', 'par0018.csv', 'par0020.csv', 'par0022.csv', 'par0024.csv', 'par0026.csv', 'par0028.csv', 'par0030.csv', 'par0032.csv', 'par0034.csv', 'par0036.csv', 'par0038.csv', 'par0040.csv', 'par0042.csv', 'par0044.csv', 'par0046.csv', 'par0048.csv', 'par0050.csv', 'par0052.csv', 'par0054.csv', 'par0056.csv', 'par0058.csv', 'par0060.csv', 'par0062.csv', 'par0064.csv', 'par0066.csv', 'par0068.csv', 'par0070.csv', 'par0072.csv', 'par0074.csv', 'par0076.csv', 'par0078.csv', 'par0080.csv', 'par0082.csv', 'par0084.csv', 'par0086.csv', 'par0088.csv', 'par0090.csv', 'par0092.csv', 'par0094.csv', 'par0096.csv', 'par0098.csv', 'par0100.csv', 'par0102.csv', 'par0104.csv', 'par0106.csv', 'par0108.csv', 'par0110.csv', 'par0112.csv', 'par0114.csv', 'par0116.csv', 'par0118.csv', 'par0120.csv', 'par0122.csv', 'par0124.csv', 'par0126.csv', 'par0128.csv', 'par0130.csv', 'par0132.csv', 'par0134.csv', 'par0136.csv', 'par0138.csv', 'par0140.csv', 'par0142.csv', 'par0144.csv', 'par0146.csv', 'par0148.csv', 'par0150.csv', 'par0152.csv', 'par0154.csv', 'par0156.csv', 'par0158.csv']\n"
     ]
    }
   ],
   "source": [
    "print(l)"
   ]
  },
  {
   "cell_type": "code",
   "execution_count": 71,
   "metadata": {},
   "outputs": [],
   "source": [
    "os.chdir(\"paraview/\")"
   ]
  },
  {
   "cell_type": "code",
   "execution_count": 72,
   "metadata": {},
   "outputs": [
    {
     "name": "stdout",
     "output_type": "stream",
     "text": [
      "par0002.csv-> 28D_5_1.csv\n",
      "par0004.csv-> 28D_5_2.csv\n",
      "par0006.csv-> 28D_5_3.csv\n",
      "par0008.csv-> 28D_5_4.csv\n",
      "par0010.csv-> 28D_5_5.csv\n",
      "par0012.csv-> 28D_5_6.csv\n",
      "par0014.csv-> 28D_5_7.csv\n",
      "par0016.csv-> 28D_5_8.csv\n",
      "par0018.csv-> 28D_5_9.csv\n",
      "par0020.csv-> 28D_5_10.csv\n",
      "par0022.csv-> 28D_5_11.csv\n",
      "par0024.csv-> 28D_5_12.csv\n",
      "par0026.csv-> 28D_5_13.csv\n",
      "par0028.csv-> 28D_5_14.csv\n",
      "par0030.csv-> 28D_5_15.csv\n",
      "par0032.csv-> 28D_5_16.csv\n",
      "par0034.csv-> 28D_5_17.csv\n",
      "par0036.csv-> 28D_5_18.csv\n",
      "par0038.csv-> 28D_5_19.csv\n",
      "par0040.csv-> 28D_5_20.csv\n",
      "par0042.csv-> 28D_5_21.csv\n",
      "par0044.csv-> 28D_5_22.csv\n",
      "par0046.csv-> 28D_5_23.csv\n",
      "par0048.csv-> 28D_5_24.csv\n",
      "par0050.csv-> 28D_5_25.csv\n",
      "par0052.csv-> 28D_5_26.csv\n",
      "par0054.csv-> 28D_5_27.csv\n",
      "par0056.csv-> 28D_5_28.csv\n",
      "par0058.csv-> 28D_5_29.csv\n",
      "par0060.csv-> 28D_5_30.csv\n",
      "par0062.csv-> 28D_5_31.csv\n",
      "par0064.csv-> 28D_5_32.csv\n",
      "par0066.csv-> 28D_5_33.csv\n",
      "par0068.csv-> 28D_5_34.csv\n",
      "par0070.csv-> 28D_5_35.csv\n",
      "par0072.csv-> 28D_5_36.csv\n",
      "par0074.csv-> 28D_5_37.csv\n",
      "par0076.csv-> 28D_5_38.csv\n",
      "par0078.csv-> 28D_5_39.csv\n",
      "par0080.csv-> 28D_5_40.csv\n",
      "par0082.csv-> 28D_5_41.csv\n",
      "par0084.csv-> 28D_5_42.csv\n",
      "par0086.csv-> 28D_5_43.csv\n",
      "par0088.csv-> 28D_5_44.csv\n",
      "par0090.csv-> 28D_5_45.csv\n",
      "par0092.csv-> 28D_5_46.csv\n",
      "par0094.csv-> 28D_5_47.csv\n",
      "par0096.csv-> 28D_5_48.csv\n",
      "par0098.csv-> 28D_5_49.csv\n",
      "par0100.csv-> 28D_5_50.csv\n",
      "par0102.csv-> 28D_5_51.csv\n",
      "par0104.csv-> 28D_5_52.csv\n",
      "par0106.csv-> 28D_5_53.csv\n",
      "par0108.csv-> 28D_5_54.csv\n",
      "par0110.csv-> 28D_5_55.csv\n",
      "par0112.csv-> 28D_5_56.csv\n",
      "par0114.csv-> 28D_5_57.csv\n",
      "par0116.csv-> 28D_5_58.csv\n",
      "par0118.csv-> 28D_5_59.csv\n",
      "par0120.csv-> 28D_5_60.csv\n",
      "par0122.csv-> 28D_5_61.csv\n",
      "par0124.csv-> 28D_5_62.csv\n",
      "par0126.csv-> 28D_5_63.csv\n",
      "par0128.csv-> 28D_5_64.csv\n",
      "par0130.csv-> 28D_5_65.csv\n",
      "par0132.csv-> 28D_5_66.csv\n",
      "par0134.csv-> 28D_5_67.csv\n",
      "par0136.csv-> 28D_5_68.csv\n",
      "par0138.csv-> 28D_5_69.csv\n",
      "par0140.csv-> 28D_5_70.csv\n",
      "par0142.csv-> 28D_5_71.csv\n",
      "par0144.csv-> 28D_5_72.csv\n",
      "par0146.csv-> 28D_5_73.csv\n",
      "par0148.csv-> 28D_5_74.csv\n",
      "par0150.csv-> 28D_5_75.csv\n",
      "par0152.csv-> 28D_5_76.csv\n",
      "par0154.csv-> 28D_5_77.csv\n",
      "par0156.csv-> 28D_5_78.csv\n",
      "par0158.csv-> 28D_5_79.csv\n"
     ]
    }
   ],
   "source": [
    "j = 1\n",
    "#path = \"Desktop/MTP_2/Data_Colection/28D/28D/1/paraview/\"\n",
    "for i in l:\n",
    "    \n",
    "    filename = i\n",
    "    dst = \"28D_5_\"+str(j)+\".csv\"\n",
    "    os.rename(filename,dst)\n",
    "    j = j+1\n",
    "    print (i + '-> ' + dst)"
   ]
  },
  {
   "cell_type": "code",
   "execution_count": null,
   "metadata": {},
   "outputs": [],
   "source": []
  }
 ],
 "metadata": {
  "kernelspec": {
   "display_name": "Python 3",
   "language": "python",
   "name": "python3"
  },
  "language_info": {
   "codemirror_mode": {
    "name": "ipython",
    "version": 3
   },
   "file_extension": ".py",
   "mimetype": "text/x-python",
   "name": "python",
   "nbconvert_exporter": "python",
   "pygments_lexer": "ipython3",
   "version": "3.7.4"
  }
 },
 "nbformat": 4,
 "nbformat_minor": 2
}
