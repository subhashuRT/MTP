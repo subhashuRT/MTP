{
 "cells": [
  {
   "cell_type": "code",
   "execution_count": 1,
   "metadata": {},
   "outputs": [
    {
     "name": "stderr",
     "output_type": "stream",
     "text": [
      "Using TensorFlow backend.\n"
     ]
    }
   ],
   "source": [
    "import csv\n",
    "#import cv2\n",
    "\n",
    "import warnings\n",
    "warnings.filterwarnings(\"ignore\")\n",
    "import tensorflow as tf\n",
    "import PIL\n",
    "import numpy as np\n",
    "#import matplotlib as mpl\n",
    "import random\n",
    "#mpl.use('TkAgg')\n",
    "import matplotlib.pyplot as plt\n",
    "import matplotlib.image as mpimg\n",
    "from keras import optimizers\n",
    "from keras.models import Sequential\n",
    "from keras.layers import Convolution2D, Lambda, Cropping2D\n",
    "from keras.layers import Dense, Activation, Flatten, Dropout\n",
    "from keras.layers import Conv2D\n",
    "from keras.layers import MaxPooling2D\n",
    "from sklearn.utils import shuffle\n",
    "from tensorflow.contrib.layers import flatten\n",
    "from scipy import misc\n",
    "from scipy.ndimage import rotate\n",
    "from skimage import transform\n",
    "from skimage.transform import warp, SimilarityTransform, AffineTransform\n",
    "from skimage import exposure"
   ]
  },
  {
   "cell_type": "code",
   "execution_count": 2,
   "metadata": {},
   "outputs": [],
   "source": [
    "from PIL import Image"
   ]
  },
  {
   "cell_type": "code",
   "execution_count": 3,
   "metadata": {},
   "outputs": [],
   "source": [
    "import os \n",
    "from os import listdir\n",
    "import glob\n",
    "import pandas as pd\n",
    "from io import BytesIO\n",
    "import base64"
   ]
  },
  {
   "cell_type": "code",
   "execution_count": 4,
   "metadata": {},
   "outputs": [],
   "source": [
    "os.chdir(\"30D_1/New directory/Img/\")"
   ]
  },
  {
   "cell_type": "code",
   "execution_count": 5,
   "metadata": {},
   "outputs": [],
   "source": [
    "filenames = [img for img in glob.glob(\"*.png\")]"
   ]
  },
  {
   "cell_type": "code",
   "execution_count": 6,
   "metadata": {},
   "outputs": [
    {
     "data": {
      "text/plain": [
       "['30D_9_1.png',\n",
       " '30D_9_2.png',\n",
       " '30D_9_3.png',\n",
       " '30D_9_4.png',\n",
       " '30D_9_5.png',\n",
       " '30D_9_6.png',\n",
       " '30D_9_7.png',\n",
       " '30D_9_8.png',\n",
       " '30D_9_9.png',\n",
       " '30D_9_10.png',\n",
       " '30D_9_11.png',\n",
       " '30D_9_12.png',\n",
       " '30D_9_13.png',\n",
       " '30D_9_14.png',\n",
       " '30D_9_15.png',\n",
       " '30D_9_16.png',\n",
       " '30D_9_17.png',\n",
       " '30D_9_18.png',\n",
       " '30D_9_19.png',\n",
       " '30D_9_20.png',\n",
       " '30D_9_21.png',\n",
       " '30D_9_22.png',\n",
       " '30D_9_23.png',\n",
       " '30D_9_24.png',\n",
       " '30D_9_25.png',\n",
       " '30D_9_26.png',\n",
       " '30D_9_27.png',\n",
       " '30D_9_28.png',\n",
       " '30D_9_29.png',\n",
       " '30D_9_30.png',\n",
       " '30D_9_31.png',\n",
       " '30D_9_32.png',\n",
       " '30D_9_33.png',\n",
       " '30D_9_34.png',\n",
       " '30D_9_35.png',\n",
       " '30D_9_36.png',\n",
       " '30D_9_37.png',\n",
       " '30D_9_38.png',\n",
       " '30D_9_39.png',\n",
       " '30D_9_40.png',\n",
       " '30D_9_41.png',\n",
       " '30D_9_42.png',\n",
       " '30D_9_43.png',\n",
       " '30D_9_44.png',\n",
       " '30D_9_45.png',\n",
       " '30D_9_46.png',\n",
       " '30D_9_47.png',\n",
       " '30D_9_48.png',\n",
       " '30D_9_49.png',\n",
       " '30D_9_50.png',\n",
       " '30D_9_51.png',\n",
       " '30D_9_52.png',\n",
       " '30D_9_53.png',\n",
       " '30D_9_54.png',\n",
       " '30D_9_55.png',\n",
       " '30D_9_56.png',\n",
       " '30D_9_57.png',\n",
       " '30D_9_58.png',\n",
       " '30D_9_59.png',\n",
       " '30D_9_60.png',\n",
       " '30D_9_61.png',\n",
       " '30D_9_62.png',\n",
       " '30D_9_63.png',\n",
       " '30D_9_64.png',\n",
       " '30D_9_65.png',\n",
       " '30D_9_66.png',\n",
       " '30D_9_67.png',\n",
       " '30D_9_68.png',\n",
       " '30D_9_69.png',\n",
       " '30D_9_70.png',\n",
       " '30D_9_71.png',\n",
       " '30D_9_72.png',\n",
       " '30D_9_73.png',\n",
       " '30D_9_74.png',\n",
       " '30D_9_75.png',\n",
       " '30D_9_76.png',\n",
       " '30D_9_77.png',\n",
       " '30D_9_78.png',\n",
       " '30D_9_79.png',\n",
       " '30D_9_80.png',\n",
       " '30D_9_81.png',\n",
       " '30D_9_82.png',\n",
       " '30D_9_83.png',\n",
       " '30D_9_84.png',\n",
       " '30D_9_85.png',\n",
       " '30D_9_86.png',\n",
       " '30D_9_87.png',\n",
       " '30D_9_88.png',\n",
       " '30D_9_89.png',\n",
       " '30D_9_90.png',\n",
       " '30D_9_91.png',\n",
       " '30D_9_92.png',\n",
       " '30D_9_93.png',\n",
       " '30D_9_94.png',\n",
       " '30D_9_95.png',\n",
       " '30D_9_96.png',\n",
       " '30D_9_97.png',\n",
       " '30D_9_98.png',\n",
       " '30D_9_99.png',\n",
       " '30D_9_100.png',\n",
       " '30D_9_101.png',\n",
       " '30D_9_102.png',\n",
       " '30D_9_103.png',\n",
       " '30D_9_104.png',\n",
       " '30D_9_105.png',\n",
       " '30D_9_106.png',\n",
       " '30D_9_107.png',\n",
       " '30D_9_108.png',\n",
       " '30D_9_109.png',\n",
       " '30D_9_110.png',\n",
       " '30D_9_111.png',\n",
       " '30D_9_112.png',\n",
       " '30D_9_113.png',\n",
       " '30D_9_114.png',\n",
       " '30D_9_115.png',\n",
       " '30D_9_116.png',\n",
       " '30D_9_117.png',\n",
       " '30D_9_118.png',\n",
       " '30D_9_119.png',\n",
       " '30D_9_120.png',\n",
       " '30D_9_121.png',\n",
       " '30D_9_122.png',\n",
       " '30D_9_123.png',\n",
       " '30D_9_124.png',\n",
       " '30D_9_125.png',\n",
       " '30D_9_126.png',\n",
       " '30D_9_127.png',\n",
       " '30D_9_128.png',\n",
       " '30D_9_129.png',\n",
       " '30D_9_130.png',\n",
       " '30D_9_131.png',\n",
       " '30D_9_132.png',\n",
       " '30D_9_133.png',\n",
       " '30D_9_134.png',\n",
       " '30D_9_135.png',\n",
       " '30D_9_136.png',\n",
       " '30D_9_137.png',\n",
       " '30D_9_138.png',\n",
       " '30D_9_139.png',\n",
       " '30D_9_140.png',\n",
       " '30D_9_141.png',\n",
       " '30D_9_142.png',\n",
       " '30D_9_143.png',\n",
       " '30D_9_144.png',\n",
       " '30D_9_145.png',\n",
       " '30D_9_146.png',\n",
       " '30D_9_147.png',\n",
       " '30D_9_148.png',\n",
       " '30D_9_149.png',\n",
       " '30D_9_150.png',\n",
       " '30D_9_151.png',\n",
       " '30D_9_152.png',\n",
       " '30D_9_153.png',\n",
       " '30D_9_154.png',\n",
       " '30D_9_155.png',\n",
       " '30D_9_156.png',\n",
       " '30D_9_157.png',\n",
       " '30D_9_158.png',\n",
       " '30D_9_159.png',\n",
       " '30D_9_160.png',\n",
       " '30D_9_161.png',\n",
       " '30D_9_162.png',\n",
       " '30D_9_163.png',\n",
       " '30D_9_164.png',\n",
       " '30D_9_165.png',\n",
       " '30D_9_166.png',\n",
       " '30D_9_167.png',\n",
       " '30D_9_168.png',\n",
       " '30D_9_169.png',\n",
       " '30D_9_170.png',\n",
       " '30D_9_171.png',\n",
       " '30D_9_172.png',\n",
       " '30D_9_173.png',\n",
       " '30D_9_174.png',\n",
       " '30D_9_175.png',\n",
       " '30D_9_176.png',\n",
       " '30D_9_177.png',\n",
       " '30D_9_178.png',\n",
       " '30D_9_179.png',\n",
       " '30D_9_180.png',\n",
       " '30D_9_181.png',\n",
       " '30D_9_182.png',\n",
       " '30D_9_183.png',\n",
       " '30D_9_184.png',\n",
       " '30D_9_185.png',\n",
       " '30D_9_186.png',\n",
       " '30D_9_187.png',\n",
       " '30D_9_188.png',\n",
       " '30D_9_189.png',\n",
       " '30D_9_190.png',\n",
       " '30D_9_191.png',\n",
       " '30D_9_192.png',\n",
       " '30D_9_193.png',\n",
       " '30D_9_194.png',\n",
       " '30D_9_195.png',\n",
       " '30D_9_196.png',\n",
       " '30D_9_197.png',\n",
       " '30D_9_198.png',\n",
       " '30D_9_199.png',\n",
       " '30D_9_200.png',\n",
       " '30D_9_201.png',\n",
       " '30D_9_202.png',\n",
       " '30D_9_203.png',\n",
       " '30D_9_204.png',\n",
       " '30D_9_205.png',\n",
       " '30D_9_206.png',\n",
       " '30D_9_207.png',\n",
       " '30D_9_208.png',\n",
       " '30D_9_209.png',\n",
       " '30D_9_210.png',\n",
       " '30D_9_211.png',\n",
       " '30D_9_212.png',\n",
       " '30D_9_213.png',\n",
       " '30D_9_214.png',\n",
       " '30D_9_215.png',\n",
       " '30D_9_216.png',\n",
       " '30D_9_217.png',\n",
       " '30D_9_218.png',\n",
       " '30D_9_219.png',\n",
       " '30D_9_220.png',\n",
       " '30D_9_221.png',\n",
       " '30D_9_222.png',\n",
       " '30D_9_223.png',\n",
       " '30D_9_224.png',\n",
       " '30D_9_225.png',\n",
       " '30D_9_226.png',\n",
       " '30D_9_227.png',\n",
       " '30D_9_228.png',\n",
       " '30D_9_229.png',\n",
       " '30D_9_230.png',\n",
       " '30D_9_231.png',\n",
       " '30D_9_232.png',\n",
       " '30D_9_233.png',\n",
       " '30D_9_234.png',\n",
       " '30D_9_235.png',\n",
       " '30D_9_236.png',\n",
       " '30D_9_237.png',\n",
       " '30D_9_238.png',\n",
       " '30D_9_239.png',\n",
       " '30D_9_240.png',\n",
       " '30D_9_241.png',\n",
       " '30D_9_242.png',\n",
       " '30D_9_243.png',\n",
       " '30D_9_244.png',\n",
       " '30D_9_245.png',\n",
       " '30D_9_246.png',\n",
       " '30D_9_247.png',\n",
       " '30D_9_248.png',\n",
       " '30D_9_249.png',\n",
       " '30D_9_250.png',\n",
       " '30D_9_251.png',\n",
       " '30D_9_252.png',\n",
       " '30D_9_253.png',\n",
       " '30D_9_254.png',\n",
       " '30D_9_255.png',\n",
       " '30D_9_256.png',\n",
       " '30D_9_257.png',\n",
       " '30D_9_258.png',\n",
       " '30D_9_259.png',\n",
       " '30D_9_260.png',\n",
       " '30D_9_261.png',\n",
       " '30D_9_262.png',\n",
       " '30D_9_263.png',\n",
       " '30D_9_264.png',\n",
       " '30D_9_265.png',\n",
       " '30D_9_266.png',\n",
       " '30D_9_267.png',\n",
       " '30D_9_268.png',\n",
       " '30D_9_269.png',\n",
       " '30D_9_270.png',\n",
       " '30D_9_271.png',\n",
       " '30D_9_272.png',\n",
       " '30D_9_273.png',\n",
       " '30D_9_274.png',\n",
       " '30D_9_275.png',\n",
       " '30D_9_276.png',\n",
       " '30D_9_277.png',\n",
       " '30D_9_278.png',\n",
       " '30D_9_279.png',\n",
       " '30D_9_280.png',\n",
       " '30D_9_281.png',\n",
       " '30D_9_282.png',\n",
       " '30D_9_283.png',\n",
       " '30D_9_284.png',\n",
       " '30D_9_285.png',\n",
       " '30D_9_286.png',\n",
       " '30D_9_287.png',\n",
       " '30D_9_288.png',\n",
       " '30D_9_289.png',\n",
       " '30D_9_290.png',\n",
       " '30D_9_291.png',\n",
       " '30D_9_292.png',\n",
       " '30D_9_293.png',\n",
       " '30D_9_294.png',\n",
       " '30D_9_295.png',\n",
       " '30D_9_296.png',\n",
       " '30D_9_297.png',\n",
       " '30D_9_298.png',\n",
       " '30D_9_299.png',\n",
       " '30D_9_300.png',\n",
       " '30D_9_301.png',\n",
       " '30D_9_302.png',\n",
       " '30D_9_303.png',\n",
       " '30D_9_304.png',\n",
       " '30D_9_305.png',\n",
       " '30D_9_306.png',\n",
       " '30D_9_307.png',\n",
       " '30D_9_308.png',\n",
       " '30D_9_309.png',\n",
       " '30D_9_310.png',\n",
       " '30D_9_311.png',\n",
       " '30D_9_312.png',\n",
       " '30D_9_313.png',\n",
       " '30D_9_314.png',\n",
       " '30D_9_315.png',\n",
       " '30D_9_316.png',\n",
       " '30D_9_317.png',\n",
       " '30D_9_318.png',\n",
       " '30D_9_319.png',\n",
       " '30D_9_320.png',\n",
       " '30D_9_321.png',\n",
       " '30D_9_322.png',\n",
       " '30D_9_323.png',\n",
       " '30D_9_324.png',\n",
       " '30D_9_325.png',\n",
       " '30D_9_326.png',\n",
       " '30D_9_327.png',\n",
       " '30D_9_328.png',\n",
       " '30D_9_329.png',\n",
       " '30D_9_330.png',\n",
       " '30D_9_331.png',\n",
       " '30D_9_332.png',\n",
       " '30D_9_333.png',\n",
       " '30D_9_334.png',\n",
       " '30D_9_335.png',\n",
       " '30D_9_336.png',\n",
       " '30D_9_337.png',\n",
       " '30D_9_338.png',\n",
       " '30D_9_339.png',\n",
       " '30D_9_340.png',\n",
       " '30D_9_341.png',\n",
       " '30D_9_342.png',\n",
       " '30D_9_343.png',\n",
       " '30D_9_344.png',\n",
       " '30D_9_345.png',\n",
       " '30D_9_346.png',\n",
       " '30D_9_347.png',\n",
       " '30D_9_348.png',\n",
       " '30D_9_349.png',\n",
       " '30D_9_350.png',\n",
       " '30D_9_351.png',\n",
       " '30D_9_352.png',\n",
       " '30D_9_353.png',\n",
       " '30D_9_354.png',\n",
       " '30D_9_355.png',\n",
       " '30D_9_356.png',\n",
       " '30D_9_357.png',\n",
       " '30D_9_358.png',\n",
       " '30D_9_359.png',\n",
       " '30D_9_360.png',\n",
       " '30D_9_361.png',\n",
       " '30D_9_362.png',\n",
       " '30D_9_363.png',\n",
       " '30D_9_364.png',\n",
       " '30D_9_365.png',\n",
       " '30D_9_366.png',\n",
       " '30D_9_367.png',\n",
       " '30D_9_368.png',\n",
       " '30D_9_369.png',\n",
       " '30D_9_370.png',\n",
       " '30D_9_371.png',\n",
       " '30D_9_372.png',\n",
       " '30D_9_373.png',\n",
       " '30D_9_374.png',\n",
       " '30D_9_375.png',\n",
       " '30D_9_376.png',\n",
       " '30D_9_377.png',\n",
       " '30D_9_378.png',\n",
       " '30D_9_379.png',\n",
       " '30D_9_380.png',\n",
       " '30D_9_381.png',\n",
       " '30D_9_382.png',\n",
       " '30D_9_383.png',\n",
       " '30D_9_384.png',\n",
       " '30D_9_385.png',\n",
       " '30D_9_386.png',\n",
       " '30D_9_387.png',\n",
       " '30D_9_388.png',\n",
       " '30D_9_389.png',\n",
       " '30D_9_390.png',\n",
       " '30D_9_391.png',\n",
       " '30D_9_392.png',\n",
       " '30D_9_393.png',\n",
       " '30D_9_394.png',\n",
       " '30D_9_395.png',\n",
       " '30D_9_396.png',\n",
       " '30D_9_397.png',\n",
       " '30D_9_398.png',\n",
       " '30D_9_399.png',\n",
       " '30D_9_400.png',\n",
       " '30D_9_401.png',\n",
       " '30D_9_402.png',\n",
       " '30D_9_403.png',\n",
       " '30D_9_404.png',\n",
       " '30D_9_405.png',\n",
       " '30D_9_406.png',\n",
       " '30D_9_407.png',\n",
       " '30D_9_408.png',\n",
       " '30D_9_409.png',\n",
       " '30D_9_410.png',\n",
       " '30D_9_411.png',\n",
       " '30D_9_412.png',\n",
       " '30D_9_413.png',\n",
       " '30D_9_414.png',\n",
       " '30D_9_415.png',\n",
       " '30D_9_416.png',\n",
       " '30D_9_417.png',\n",
       " '30D_9_418.png',\n",
       " '30D_9_419.png',\n",
       " '30D_9_420.png',\n",
       " '30D_9_421.png',\n",
       " '30D_9_422.png',\n",
       " '30D_9_423.png',\n",
       " '30D_9_424.png',\n",
       " '30D_9_425.png',\n",
       " '30D_9_426.png',\n",
       " '30D_9_427.png',\n",
       " '30D_9_428.png',\n",
       " '30D_9_429.png',\n",
       " '30D_9_430.png',\n",
       " '30D_9_431.png',\n",
       " '30D_9_432.png',\n",
       " '30D_9_433.png',\n",
       " '30D_9_434.png',\n",
       " '30D_9_435.png',\n",
       " '30D_9_436.png',\n",
       " '30D_9_437.png',\n",
       " '30D_9_438.png',\n",
       " '30D_9_439.png',\n",
       " '30D_9_440.png',\n",
       " '30D_9_441.png',\n",
       " '30D_9_442.png',\n",
       " '30D_9_443.png',\n",
       " '30D_9_444.png',\n",
       " '30D_9_445.png',\n",
       " '30D_9_446.png',\n",
       " '30D_9_447.png',\n",
       " '30D_9_448.png',\n",
       " '30D_9_449.png',\n",
       " '30D_9_450.png',\n",
       " '30D_9_451.png',\n",
       " '30D_9_452.png',\n",
       " '30D_9_453.png',\n",
       " '30D_9_454.png',\n",
       " '30D_9_455.png',\n",
       " '30D_9_456.png',\n",
       " '30D_9_457.png',\n",
       " '30D_9_458.png',\n",
       " '30D_9_459.png',\n",
       " '30D_9_460.png',\n",
       " '30D_9_461.png',\n",
       " '30D_9_462.png',\n",
       " '30D_9_463.png',\n",
       " '30D_9_464.png',\n",
       " '30D_9_465.png',\n",
       " '30D_9_466.png',\n",
       " '30D_9_467.png',\n",
       " '30D_9_468.png',\n",
       " '30D_9_469.png',\n",
       " '30D_9_470.png',\n",
       " '30D_9_471.png',\n",
       " '30D_9_472.png',\n",
       " '30D_9_473.png',\n",
       " '30D_9_474.png',\n",
       " '30D_9_475.png',\n",
       " '30D_9_476.png',\n",
       " '30D_9_477.png',\n",
       " '30D_9_478.png',\n",
       " '30D_9_479.png',\n",
       " '30D_9_480.png',\n",
       " '30D_9_481.png',\n",
       " '30D_9_482.png',\n",
       " '30D_9_483.png',\n",
       " '30D_9_484.png',\n",
       " '30D_9_485.png',\n",
       " '30D_9_486.png',\n",
       " '30D_9_487.png',\n",
       " '30D_9_488.png',\n",
       " '30D_9_489.png',\n",
       " '30D_9_490.png',\n",
       " '30D_9_491.png',\n",
       " '30D_9_492.png',\n",
       " '30D_9_493.png',\n",
       " '30D_9_494.png',\n",
       " '30D_9_495.png',\n",
       " '30D_9_496.png',\n",
       " '30D_9_497.png',\n",
       " '30D_9_498.png',\n",
       " '30D_9_499.png',\n",
       " '30D_9_500.png',\n",
       " '30D_9_501.png',\n",
       " '30D_9_502.png',\n",
       " '30D_9_503.png',\n",
       " '30D_9_504.png',\n",
       " '30D_9_505.png',\n",
       " '30D_9_506.png',\n",
       " '30D_9_507.png',\n",
       " '30D_9_508.png',\n",
       " '30D_9_509.png',\n",
       " '30D_9_510.png',\n",
       " '30D_9_511.png',\n",
       " '30D_9_512.png',\n",
       " '30D_9_513.png',\n",
       " '30D_9_514.png',\n",
       " '30D_9_515.png',\n",
       " '30D_9_516.png',\n",
       " '30D_9_517.png',\n",
       " '30D_9_518.png',\n",
       " '30D_9_519.png',\n",
       " '30D_9_520.png',\n",
       " '30D_9_521.png',\n",
       " '30D_9_522.png',\n",
       " '30D_9_523.png',\n",
       " '30D_9_524.png',\n",
       " '30D_9_525.png',\n",
       " '30D_9_526.png',\n",
       " '30D_9_527.png',\n",
       " '30D_9_528.png',\n",
       " '30D_9_529.png',\n",
       " '30D_9_530.png',\n",
       " '30D_9_531.png',\n",
       " '30D_9_532.png',\n",
       " '30D_9_533.png',\n",
       " '30D_9_534.png',\n",
       " '30D_9_535.png',\n",
       " '30D_9_536.png',\n",
       " '30D_9_537.png',\n",
       " '30D_9_538.png',\n",
       " '30D_9_539.png',\n",
       " '30D_9_540.png',\n",
       " '30D_9_541.png',\n",
       " '30D_9_542.png',\n",
       " '30D_9_543.png',\n",
       " '30D_9_544.png',\n",
       " '30D_9_545.png',\n",
       " '30D_9_546.png',\n",
       " '30D_9_547.png',\n",
       " '30D_9_548.png',\n",
       " '30D_9_549.png',\n",
       " '30D_9_550.png',\n",
       " '30D_9_551.png',\n",
       " '30D_9_552.png',\n",
       " '30D_9_553.png',\n",
       " '30D_9_554.png',\n",
       " '30D_9_555.png',\n",
       " '30D_9_556.png',\n",
       " '30D_9_557.png',\n",
       " '30D_9_558.png',\n",
       " '30D_9_559.png',\n",
       " '30D_9_560.png',\n",
       " '30D_9_561.png',\n",
       " '30D_9_562.png',\n",
       " '30D_9_563.png']"
      ]
     },
     "execution_count": 6,
     "metadata": {},
     "output_type": "execute_result"
    }
   ],
   "source": [
    "import re\n",
    "tokenize = re.compile(r'(\\d+)|(\\D+)').findall\n",
    "def natural_sortkey(string):          \n",
    "    return tuple(int(num) if num else alpha for num, alpha in tokenize(string))\n",
    "\n",
    "files = sorted(filenames, key=natural_sortkey)\n",
    "\n",
    "files"
   ]
  },
  {
   "cell_type": "code",
   "execution_count": 7,
   "metadata": {},
   "outputs": [],
   "source": [
    "labels = pd.read_csv(\"../30D_9.csv\")"
   ]
  },
  {
   "cell_type": "code",
   "execution_count": 8,
   "metadata": {},
   "outputs": [],
   "source": [
    "image = mpimg.imread(files[0])"
   ]
  },
  {
   "cell_type": "code",
   "execution_count": 9,
   "metadata": {},
   "outputs": [],
   "source": [
    "images = []\n",
    "for i in range(len(files)):\n",
    "    images.append(mpimg.imread(files[i]))"
   ]
  },
  {
   "cell_type": "code",
   "execution_count": 10,
   "metadata": {},
   "outputs": [
    {
     "data": {
      "text/plain": [
       "0      0.000377\n",
       "1      0.000592\n",
       "2      0.000774\n",
       "3      0.000891\n",
       "4      0.001091\n",
       "         ...   \n",
       "558    0.120700\n",
       "559    0.120900\n",
       "560    0.121200\n",
       "561    0.121500\n",
       "562    0.121700\n",
       "Name: strain, Length: 563, dtype: float64"
      ]
     },
     "execution_count": 10,
     "metadata": {},
     "output_type": "execute_result"
    }
   ],
   "source": [
    "labels[\"strain\"]"
   ]
  },
  {
   "cell_type": "code",
   "execution_count": 11,
   "metadata": {},
   "outputs": [],
   "source": [
    "X_train = np.array(images)\n",
    "y_train = np.array(labels[\"strain\"])"
   ]
  },
  {
   "cell_type": "code",
   "execution_count": 17,
   "metadata": {},
   "outputs": [
    {
     "data": {
      "text/plain": [
       "'30D_9_2.png'"
      ]
     },
     "execution_count": 17,
     "metadata": {},
     "output_type": "execute_result"
    }
   ],
   "source": [
    "files[1]\n"
   ]
  },
  {
   "cell_type": "code",
   "execution_count": 12,
   "metadata": {},
   "outputs": [],
   "source": [
    "model = Sequential()\n",
    "#model.add(Lambda(lambda x: (x/255.0)-0.5, input_shape = (231, 231, 4)))\n",
    "\n",
    "#The architecture is similar to NVIDIA architecture. It starts with convolutional layers that have \n",
    "#24, 36 and 48 , 5x5 filters respectively in the first 3 layers and a stride of 2 in both the directions.\n",
    "#These layers are followed by two convolutional layers each having 64 3x3 filters with strides of 1\n",
    "#in both the directions. Exponential Linear Unit activation function is used in all the five convolutional\n",
    "#layers. A maxpooling layer follows. The layer is flattened and fed into four fully connected layers with\n",
    "#first two having ELU activation. Dropout is applied in each layer after the first one with a probability of\n",
    "#retaining the weights equal to 0.5. It was also realized that maxpooling layers take a long time\n",
    "model.add(Convolution2D(24,(3,3), padding = 'valid', strides = (2,2), activation='elu'))\n",
    "model.add(Convolution2D(36,(3,3), padding = 'valid', strides = (2,2), activation='elu'))\n",
    "model.add(Convolution2D(48,(3,3), padding = 'valid', strides = (2,2), activation='elu'))\n",
    "model.add(Convolution2D(64,(3,3), padding = 'valid', strides = (1,1), activation='elu'))\n",
    "model.add(Convolution2D(64,(3,3), padding = 'valid', strides = (1,1), activation='elu'))\n",
    "model.add(MaxPooling2D())\n",
    "model.add(Flatten())\n",
    "model.add(Dense(50, activation = 'elu'))\n",
    "model.add(Dropout(0.5))\n",
    "model.add(Dense(25))\n",
    "model.add(Dropout(0.5))\n",
    "model.add(Dense(1))\n"
   ]
  },
  {
   "cell_type": "code",
   "execution_count": 13,
   "metadata": {},
   "outputs": [
    {
     "name": "stdout",
     "output_type": "stream",
     "text": [
      "WARNING:tensorflow:From /opt/anaconda3/lib/python3.7/site-packages/tensorflow/python/ops/resource_variable_ops.py:435: colocate_with (from tensorflow.python.framework.ops) is deprecated and will be removed in a future version.\n",
      "Instructions for updating:\n",
      "Colocations handled automatically by placer.\n",
      "WARNING:tensorflow:From /opt/anaconda3/lib/python3.7/site-packages/tensorflow/python/ops/math_ops.py:3066: to_int32 (from tensorflow.python.ops.math_ops) is deprecated and will be removed in a future version.\n",
      "Instructions for updating:\n",
      "Use tf.cast instead.\n",
      "Train on 422 samples, validate on 141 samples\n",
      "Epoch 1/30\n",
      "422/422 [==============================] - 9s 22ms/step - loss: 7.7536 - val_loss: 0.0754\n",
      "Epoch 2/30\n",
      "422/422 [==============================] - 9s 21ms/step - loss: 0.3363 - val_loss: 0.0053\n",
      "Epoch 3/30\n",
      "422/422 [==============================] - 9s 21ms/step - loss: 0.1326 - val_loss: 0.0026\n",
      "Epoch 4/30\n",
      "422/422 [==============================] - 9s 20ms/step - loss: 0.0485 - val_loss: 0.0143\n",
      "Epoch 5/30\n",
      "422/422 [==============================] - 9s 20ms/step - loss: 0.0192 - val_loss: 0.0141\n",
      "Epoch 6/30\n",
      "422/422 [==============================] - 9s 20ms/step - loss: 0.0202 - val_loss: 0.0059\n",
      "Epoch 7/30\n",
      "422/422 [==============================] - 9s 20ms/step - loss: 0.0183 - val_loss: 0.0064\n",
      "Epoch 8/30\n",
      "422/422 [==============================] - 8s 20ms/step - loss: 0.0200 - val_loss: 0.0085\n",
      "Epoch 9/30\n",
      "422/422 [==============================] - 9s 20ms/step - loss: 0.0157 - val_loss: 0.0099\n",
      "Epoch 10/30\n",
      "422/422 [==============================] - 9s 20ms/step - loss: 0.0137 - val_loss: 0.0104\n",
      "Epoch 11/30\n",
      "422/422 [==============================] - 9s 20ms/step - loss: 0.0164 - val_loss: 0.0031\n",
      "Epoch 12/30\n",
      "422/422 [==============================] - 9s 20ms/step - loss: 0.0178 - val_loss: 0.0025\n",
      "Epoch 13/30\n",
      "422/422 [==============================] - 9s 20ms/step - loss: 0.0149 - val_loss: 0.0051\n",
      "Epoch 14/30\n",
      "422/422 [==============================] - 9s 21ms/step - loss: 0.0138 - val_loss: 0.0107\n",
      "Epoch 15/30\n",
      "422/422 [==============================] - 9s 21ms/step - loss: 0.0124 - val_loss: 0.0156\n",
      "Epoch 16/30\n",
      "422/422 [==============================] - 9s 20ms/step - loss: 0.0095 - val_loss: 0.0088\n",
      "Epoch 17/30\n",
      "422/422 [==============================] - 9s 20ms/step - loss: 0.0125 - val_loss: 0.0095\n",
      "Epoch 18/30\n",
      "422/422 [==============================] - 9s 21ms/step - loss: 0.0111 - val_loss: 0.0041\n",
      "Epoch 19/30\n",
      "422/422 [==============================] - 9s 20ms/step - loss: 0.0157 - val_loss: 0.0133\n",
      "Epoch 20/30\n",
      "422/422 [==============================] - 9s 20ms/step - loss: 0.0113 - val_loss: 0.0073\n",
      "Epoch 21/30\n",
      "422/422 [==============================] - 9s 21ms/step - loss: 0.0127 - val_loss: 0.0259\n",
      "Epoch 22/30\n",
      "422/422 [==============================] - 9s 20ms/step - loss: 0.0138 - val_loss: 0.0087\n",
      "Epoch 23/30\n",
      "422/422 [==============================] - 9s 20ms/step - loss: 0.0162 - val_loss: 0.0052\n",
      "Epoch 24/30\n",
      "422/422 [==============================] - 9s 20ms/step - loss: 0.0120 - val_loss: 0.0177\n",
      "Epoch 25/30\n",
      "422/422 [==============================] - 9s 20ms/step - loss: 0.0108 - val_loss: 0.0101\n",
      "Epoch 26/30\n",
      "422/422 [==============================] - 9s 20ms/step - loss: 0.0101 - val_loss: 0.0096\n",
      "Epoch 27/30\n",
      "422/422 [==============================] - 9s 20ms/step - loss: 0.0094 - val_loss: 0.0106\n",
      "Epoch 28/30\n",
      "422/422 [==============================] - 9s 20ms/step - loss: 0.0101 - val_loss: 0.0074\n",
      "Epoch 29/30\n",
      "422/422 [==============================] - 9s 20ms/step - loss: 0.0097 - val_loss: 0.0105\n",
      "Epoch 30/30\n",
      "422/422 [==============================] - 9s 20ms/step - loss: 0.0107 - val_loss: 0.0096\n"
     ]
    }
   ],
   "source": [
    "adam = optimizers.Adam(lr=0.001)\n",
    "#model.compile(loss='mean_squared_error', optimizer=sgd)\n",
    "model.compile(loss = 'mse', optimizer = adam)    #mse is used here instead of a cross entropy function because it is a regression and not a classification\n",
    "hist = model.fit(X_train, y_train, batch_size = 20, validation_split = 0.25, shuffle = True, epochs = 30)\n",
    "\n",
    "#model.save('model.h5')"
   ]
  },
  {
   "cell_type": "code",
   "execution_count": 14,
   "metadata": {},
   "outputs": [],
   "source": [
    "#print(hist.history)\n",
    "train_loss = hist.history['loss']\n",
    "val_loss   = hist.history['val_loss']\n"
   ]
  },
  {
   "cell_type": "code",
   "execution_count": 15,
   "metadata": {},
   "outputs": [],
   "source": [
    "predicted_strain = []\n",
    "l = []\n",
    "for i in range(len(files)):\n",
    "    image = images[i]\n",
    "    image = np.expand_dims(image, axis=0)\n",
    "    k = (model.predict(image))\n",
    "    l.append(k[0][0])"
   ]
  },
  {
   "cell_type": "code",
   "execution_count": 16,
   "metadata": {},
   "outputs": [
    {
     "name": "stdout",
     "output_type": "stream",
     "text": [
      "[0.041187733, 0.02735439, -0.022759017, 0.006975943, 0.01593808, 0.00094090146, 0.00065617566, 0.0269708, -0.0043719355, -0.011997323, -0.0143502755, 0.0075855143, 0.024023214, -0.009662226, -0.0020144025, -0.00045925472, 0.003544537, -0.020245072, 0.017704992, -0.0006933196, 0.073432915, 0.013047793, 0.0464113, -0.001683085, 0.0015217878, 0.03509274, -0.020046964, -0.01646535, -0.0010840937, -0.012265913, 0.005691788, 0.010983315, 0.015170229, -0.002254618, 0.020080462, 0.0011247622, -0.015930021, 0.023453528, -0.03907515, -0.0042591793, -0.0017159206, -0.0057354774, 0.0094503565, 0.017039197, 0.035526946, 0.0023938501, -0.030917892, 0.0005220745, 0.020356132, 0.01828052, 0.032497287, 0.04348776, 0.023997253, 0.0018613518, 0.02904315, 0.021662688, 0.020866893, 0.049373724, -0.0145846335, -0.03912117, 0.03126949, 0.026350101, -0.0016464279, 0.050218925, -0.009788402, -0.0359377, -0.03144829, 0.038297065, 0.06340531, 0.012869928, 0.015383947, 0.031050632, -0.033761717, -0.0064659826, -0.0023605637, -0.014891096, -0.008402589, 0.0046043256, 0.016159674, 0.04565927, 0.032411586, 0.018984819, 0.008369835, -0.026268566, 0.011675687, 0.025992204, -0.012872318, 0.0037095193, -0.016281396, 0.01834642, 0.0029170641, 0.004392379, -0.017312907, 0.029504007, -0.034898464, 0.021872906, 0.0027525902, 0.030533025, -0.0020399715, 0.016748313, -0.006359157, 0.023720397, 0.006761142, 0.00018760562, -0.02081736, 0.027243905, -0.103822924, -0.024436506, 0.007977944, 0.013388234, 0.001282641, -0.0048063872, 0.024905223, 0.026340896, -0.003419941, -0.014443311, 0.024401186, 0.040388875, -0.0372724, -0.015604108, 0.04002642, 0.040848736, -0.0031626343, 0.004818597, 0.011162948, 0.014808422, -0.02511294, -0.013964278, -0.01085569, 0.016134236, -0.025658717, -0.031883534, -0.0014365802, 0.017163577, 0.028729212, -0.0076282388, -0.00033331173, -0.0129188085, -0.0021343518, 0.02817914, 0.0057120146, 0.016162662, -0.025079342, -0.012627968, 0.015256112, -0.024350865, 0.0061082877, 0.021049295, 0.0049083317, -0.0128244, 0.00024009659, 0.013800449, 0.011350688, 0.024399789, -0.0017193656, 0.029821415, 0.017745167, 0.009804733, 0.0145174, -0.025188748, 0.032585718, 0.023052473, -0.022848884, -0.004748135, 0.031774633, 0.02487631, 0.0021540888, 0.044641327, 0.030496342, 0.0065276427, 0.010663151, 0.0014685302, 0.025460893, 0.013136742, 0.02659525, 0.008620749, 0.030742222, 0.0120423185, 0.022163205, 0.00076738425, -0.0029963616, 0.007087823, 0.0073227817, -0.023525998, 0.01525952, 0.027097244, -0.0031278988, 0.0064612105, 0.016782766, 0.0058572674, 0.0015254414, -0.0039248364, -0.008047938, -0.008894243, -0.002667222, 0.022397257, 0.0123538, 0.00077222125, 0.011272332, -0.028369615, 0.042119093, 0.04047114, 0.011082715, 0.057776257, -0.015020368, 0.080135964, 0.010939575, 0.008482593, -0.0057618124, 0.05740894, 0.001307669, 0.016626801, 0.0012799867, 0.03370738, -0.010396543, -0.00084900646, -0.010996641, 0.013383739, -0.002081564, 0.02742934, -0.029290386, 0.004981812, 0.04696496, 0.04458943, 0.027833728, -0.031191362, -0.0036118396, 0.026284575, -0.007245126, 0.02357617, 0.020240666, -0.018301675, -0.014694964, 0.015388366, 0.038994327, -0.012706284, 0.008739261, 0.0239091, 0.012789977, 0.029658908, 0.0066970624, 0.023737285, 0.026085729, 0.020923572, 0.002795349, 0.013265592, -0.008909679, -0.014799929, 0.020838208, 0.019260053, 0.014017945, 0.009984052, -0.0016788035, 0.008934262, 0.013797949, 0.062408064, 0.04250073, 0.0052137645, 0.007215346, 0.03394326, 0.0021766673, 0.010600031, 0.030101744, 0.020561067, 0.0145383915, 0.0011534106, 0.04389885, -0.0012913502, 0.034961473, -0.00011724862, -0.012734809, 0.08930708, 0.065680236, 0.033840474, -0.00507342, 0.028299365, 0.007263232, 0.0086947195, -0.02487133, 0.030890621, -0.03397395, 0.007836802, 0.043184, 0.005118817, -0.011567301, -0.017694792, 0.039976157, 0.017839342, 0.04062816, 0.058273382, 0.03234762, -0.00642421, 0.015296892, 0.039272714, 0.03735258, 0.03552436, 0.03755345, 0.015490562, 0.02687322, 0.0072958358, -0.0059054624, 0.015992334, 0.018591763, 0.0077093504, 0.038340464, 0.003923919, 0.033551157, 0.032587748, 0.015255927, 0.042933412, 0.048817832, 0.015917469, 0.0425413, 0.029478084, 0.027713496, -0.018198052, 0.006675505, -0.010420964, -0.046090752, -0.10805909, 0.036367457, 0.014104943, 0.0053006792, 0.007304021, 0.04747601, -0.0019970024, 0.033759587, 0.02599052, -0.0063905325, -0.015594586, 0.00077529834, 0.008264825, 0.072793454, 0.06885641, -0.011565769, 0.03876156, 0.023385676, 0.032846484, 0.07517169, 0.011118376, 0.012930214, 0.019318545, 0.01847722, 0.030656407, -0.0025021678, 0.0075751105, 0.038464304, 0.022623884, 0.01911666, 0.012918089, 0.05472953, 0.025811018, 0.016542384, 0.06266614, -0.0030270831, 0.031858273, -0.029372519, 0.027154494, -0.0061205104, -0.016797945, 0.039804447, 0.033602737, 0.0366846, 0.03402057, 0.010665808, 0.053689536, 0.04123992, 0.035988744, 0.022573255, 0.037632614, 0.012375763, -0.012151083, 0.03225383, 0.04463084, 0.046720732, 0.011738061, 0.02573181, 0.018950546, 0.055744022, 0.04312344, 0.05268522, 0.011877177, 0.053181697, 0.044993374, -0.0043859994, -0.0033941565, 0.035257027, 0.016183315, 0.013418875, 0.0044819657, 0.05489381, 0.038748503, 0.03792268, 0.03519433, 0.058417574, 0.06407797, 0.050596513, 0.043971416, 0.045953624, 0.004626969, 0.041095916, 0.026317425, 0.088332035, 0.05060106, 0.047150645, 0.018533288, 0.04022207, 0.0042003673, 0.04710982, 0.03239246, -0.0017876276, 0.06573986, 0.033071432, 0.020298496, 0.02654622, 0.09192367, 0.02909541, 0.045144603, 0.016739598, 0.04867312, 0.03694554, 0.011440282, 0.021478986, -0.021308357, -0.051225692, 0.029185282, -0.012375846, -0.0021797598, -0.05100932, 0.007649375, 0.025798146, 0.022962637, -0.011485378, 0.010078192, -0.012586862, -0.06724334, 0.0060044928, -0.041216116, -0.06658376, -0.0025831691, 0.034752093, 0.08425609, 0.021705413, -0.08124121, 0.019004164, -0.012494834, 0.019092638, -0.015432035, 0.023624627, -0.017954867, 0.0025714135, 0.00035294634, 0.012961873, 0.016553838, 0.08307921, 0.016318088, 0.011698944, 0.044554308, -0.019738624, 0.05614555, 0.020540912, 0.022623759, 0.024276176, 0.058391992, 0.025031548, 0.03404796, -0.024757298, 0.049553826, -0.015088498, -0.06156627, 0.038204007, 0.047419272, 0.038210273, -0.08331205, -0.014731768, -0.015558523, 0.05718491, 0.002008661, 0.024653407, 0.01719533, 0.01838204, -0.015623416, 0.0814895, 0.024682129, 0.08550696, -0.023203641, 0.051599976, 0.00074311416, 0.07326135, 0.0864277, -0.017339827, 0.010265592, -0.05391744, -0.037486784, -0.031463686, -0.015269249, -0.014357257, 0.028419195, 0.053377062, 0.018606154, 0.017669773, 0.004480553, -0.022144867, -0.05431796, 0.0435257, -0.012070903, 0.033134863, -0.0275291, 0.0891353, 0.05099335, 0.012623894, 0.028010933, 0.038839955, -0.0051714955, 0.04251707, 0.027655888, 0.012392701, 0.038733408, -0.021793129, 0.037908882, 0.01585622, 0.023840224, -0.03234692, 0.008890716, 0.0009009311, -0.0049894387, 0.02139395, 0.0824233, -0.05132652, -0.020088475, -0.05002255, 0.082635, 0.03002637, -0.068084545, 0.042355105, -0.004052881, -0.0036209447, 0.03581979, 0.010371742, -0.021123404, 0.016038407, 0.016342781, -0.009177488, -0.015790561, 0.019617341, 0.019638307, -0.011972345, -0.012685899, 0.03172267, -0.0035872774, 0.059344, 0.033103094, 0.013129581, 0.015426758, -0.001890253, -0.006353976, -0.017231343, 0.023328004, -0.018920144, -0.053556763, -0.015664512, -0.003880035, -0.06332404]\n"
     ]
    }
   ],
   "source": [
    "print(l)"
   ]
  },
  {
   "cell_type": "code",
   "execution_count": 17,
   "metadata": {},
   "outputs": [],
   "source": [
    "k = np.asarray(labels[\"strain\"][220:320])"
   ]
  },
  {
   "cell_type": "code",
   "execution_count": 18,
   "metadata": {
    "scrolled": true
   },
   "outputs": [
    {
     "data": {
      "text/plain": [
       "array([0.01957, 0.01965, 0.01973, 0.01982, 0.01991, 0.02001, 0.0201 ,\n",
       "       0.02019, 0.02029, 0.02038, 0.02047, 0.02057, 0.02066, 0.02076,\n",
       "       0.02084, 0.02092, 0.021  , 0.02108, 0.02117, 0.02125, 0.02133,\n",
       "       0.02141, 0.02148, 0.02157, 0.02166, 0.02174, 0.02182, 0.0219 ,\n",
       "       0.02197, 0.02205, 0.02213, 0.02221, 0.02229, 0.02236, 0.02245,\n",
       "       0.02254, 0.0226 , 0.02268, 0.02276, 0.02284, 0.02291, 0.02298,\n",
       "       0.02305, 0.02312, 0.02318, 0.02325, 0.02333, 0.02341, 0.02348,\n",
       "       0.02355, 0.02362, 0.0237 , 0.02377, 0.02384, 0.02392, 0.02399,\n",
       "       0.02406, 0.02413, 0.0242 , 0.02427, 0.02435, 0.02443, 0.02452,\n",
       "       0.02459, 0.02466, 0.02474, 0.02482, 0.02489, 0.02498, 0.02506,\n",
       "       0.02514, 0.02524, 0.02531, 0.02537, 0.02543, 0.0255 , 0.02556,\n",
       "       0.02565, 0.02573, 0.02581, 0.02588, 0.02594, 0.02601, 0.02609,\n",
       "       0.02617, 0.02623, 0.02629, 0.02635, 0.02641, 0.02649, 0.02655,\n",
       "       0.0266 , 0.02666, 0.02672, 0.02678, 0.02689, 0.02706, 0.02718,\n",
       "       0.02733, 0.02745])"
      ]
     },
     "execution_count": 18,
     "metadata": {},
     "output_type": "execute_result"
    }
   ],
   "source": [
    "k"
   ]
  },
  {
   "cell_type": "code",
   "execution_count": 31,
   "metadata": {},
   "outputs": [
    {
     "data": {
      "text/plain": [
       "Text(0.5, 1.0, 'Actual and predicted value of strain')"
      ]
     },
     "execution_count": 31,
     "metadata": {},
     "output_type": "execute_result"
    },
    {
     "data": {
      "image/png": "[encoded data removed]",
      "text/plain": [
       "<Figure size 864x504 with 1 Axes>"
      ]
     },
     "metadata": {
      "needs_background": "light"
     },
     "output_type": "display_data"
    }
   ],
   "source": [
    "plt.figure(figsize=(12,7))\n",
    "\n",
    "plt.xlabel(\"File number\")\n",
    "plt.ylabel(\"strain\")\n",
    "plt.plot( l[0:300], 'r*', label='Predicted Strain')\n",
    "plt.plot(labels[\"strain\"][0:300],\"g\",label = \"Actual strain\")\n",
    "plt.legend()\n",
    "plt.title('Actual and predicted value of strain')\n"
   ]
  },
  {
   "cell_type": "code",
   "execution_count": 20,
   "metadata": {},
   "outputs": [
    {
     "data": {
      "image/png": "[encoded data removed]",
      "text/plain": [
       "<Figure size 432x288 with 1 Axes>"
      ]
     },
     "metadata": {
      "needs_background": "light"
     },
     "output_type": "display_data"
    }
   ],
   "source": [
    "plt.plot(l)\n",
    "plt.show()"
   ]
  },
  {
   "cell_type": "code",
   "execution_count": 21,
   "metadata": {},
   "outputs": [
    {
     "data": {
      "image/png": "[encoded data removed]",
      "text/plain": [
       "<Figure size 432x288 with 1 Axes>"
      ]
     },
     "metadata": {
      "needs_background": "light"
     },
     "output_type": "display_data"
    }
   ],
   "source": [
    "plt.plot(train_loss)\n",
    "plt.show()"
   ]
  },
  {
   "cell_type": "code",
   "execution_count": 22,
   "metadata": {},
   "outputs": [
    {
     "data": {
      "text/plain": [
       "[<matplotlib.lines.Line2D at 0x1c70e970d0>]"
      ]
     },
     "execution_count": 22,
     "metadata": {},
     "output_type": "execute_result"
    },
    {
     "data": {
      "image/png": "[encoded data removed]",
      "text/plain": [
       "<Figure size 432x288 with 1 Axes>"
      ]
     },
     "metadata": {
      "needs_background": "light"
     },
     "output_type": "display_data"
    }
   ],
   "source": [
    "plt.plot(val_loss)"
   ]
  },
  {
   "cell_type": "code",
   "execution_count": 27,
   "metadata": {
    "scrolled": true
   },
   "outputs": [
    {
     "data": {
      "text/plain": [
       "<Figure size 720x720 with 0 Axes>"
      ]
     },
     "execution_count": 27,
     "metadata": {},
     "output_type": "execute_result"
    },
    {
     "data": {
      "image/png": "[encoded data removed]",
      "text/plain": [
       "<Figure size 504x504 with 1 Axes>"
      ]
     },
     "metadata": {
      "needs_background": "light"
     },
     "output_type": "display_data"
    },
    {
     "data": {
      "text/plain": [
       "<Figure size 720x720 with 0 Axes>"
      ]
     },
     "metadata": {},
     "output_type": "display_data"
    }
   ],
   "source": [
    "#print(hist.history)\n",
    "train_loss = hist.history['loss'][1:]\n",
    "val_loss   = hist.history['val_loss'][1:]\n",
    "\n",
    "plt.figure(figsize=(7,7))\n",
    "epochs = range(len(val_loss))\n",
    "plt.plot(epochs, train_loss, 'r', label='Training loss')\n",
    "plt.xlabel(\"No. of Epochs\")\n",
    "plt.ylabel(\"Fraction\")\n",
    "plt.plot(epochs, val_loss, 'b', label='Validation loss')\n",
    "plt.title('Training and validation loss')\n",
    "plt.legend()\n",
    "plt.figure(figsize=(10,10))"
   ]
  },
  {
   "cell_type": "code",
   "execution_count": null,
   "metadata": {},
   "outputs": [],
   "source": []
  }
 ],
 "metadata": {
  "kernelspec": {
   "display_name": "Python 3",
   "language": "python",
   "name": "python3"
  },
  "language_info": {
   "codemirror_mode": {
    "name": "ipython",
    "version": 3
   },
   "file_extension": ".py",
   "mimetype": "text/x-python",
   "name": "python",
   "nbconvert_exporter": "python",
   "pygments_lexer": "ipython3",
   "version": "3.7.4"
  }
 },
 "nbformat": 4,
 "nbformat_minor": 2
}
